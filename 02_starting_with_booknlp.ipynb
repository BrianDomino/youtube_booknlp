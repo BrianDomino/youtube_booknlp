{
 "cells": [
  {
   "cell_type": "code",
   "execution_count": 1,
   "id": "483d41d3-93ca-4e5e-9a42-8d64417241a9",
   "metadata": {},
   "outputs": [
    {
     "name": "stderr",
     "output_type": "stream",
     "text": [
      "C:\\Users\\wma22\\anaconda3\\envs\\booknlp\\lib\\site-packages\\tqdm\\auto.py:22: TqdmWarning: IProgress not found. Please update jupyter and ipywidgets. See https://ipywidgets.readthedocs.io/en/stable/user_install.html\n",
      "  from .autonotebook import tqdm as notebook_tqdm\n"
     ]
    },
    {
     "name": "stdout",
     "output_type": "stream",
     "text": [
      "using device cpu\n"
     ]
    }
   ],
   "source": [
    "from booknlp.booknlp import BookNLP"
   ]
  },
  {
   "cell_type": "code",
   "execution_count": 2,
   "id": "487975fb-7693-4973-9ff5-d99a6d29b25e",
   "metadata": {},
   "outputs": [],
   "source": [
    "model_params={\n",
    "        \"pipeline\":\"entity,quote,supersense,event,coref\",\n",
    "        \"model\":\"big\"}"
   ]
  },
  {
   "cell_type": "code",
   "execution_count": 3,
   "id": "6104291d-4165-4734-acea-dcf9ddabc9bc",
   "metadata": {},
   "outputs": [
    {
     "name": "stdout",
     "output_type": "stream",
     "text": [
      "{'pipeline': 'entity,quote,supersense,event,coref', 'model': 'big'}\n",
      "--- startup: 5.466 seconds ---\n"
     ]
    }
   ],
   "source": [
    "booknlp=BookNLP(\"en\", model_params)"
   ]
  },
  {
   "cell_type": "code",
   "execution_count": null,
   "id": "64966ece-669b-4144-92ee-668a77f1b1ea",
   "metadata": {},
   "outputs": [],
   "source": [
    "# Input file to process\n",
    "input_file=\"harry_potter.txt\"\n",
    "\n",
    "# Output directory to store resulting files in\n",
    "output_directory=\"harry_potter\"\n",
    "\n",
    "# File within this directory will be named ${book_id}.entities, ${book_id}.tokens, etc.\n",
    "book_id=\"harry_potter\"\n",
    "booknlp.process(input_file, output_directory, book_id)"
   ]
  },
  {
   "cell_type": "code",
   "execution_count": null,
   "id": "4065b2f7-e21c-460a-af1b-c44a8685db83",
   "metadata": {},
   "outputs": [],
   "source": []
  },
  {
   "cell_type": "code",
   "execution_count": null,
   "id": "d08f3627-25d7-4768-af42-9a59db352650",
   "metadata": {},
   "outputs": [],
   "source": []
  }
 ],
 "metadata": {
  "kernelspec": {
   "display_name": "Python 3 (ipykernel)",
   "language": "python",
   "name": "python3"
  },
  "language_info": {
   "codemirror_mode": {
    "name": "ipython",
    "version": 3
   },
   "file_extension": ".py",
   "mimetype": "text/x-python",
   "name": "python",
   "nbconvert_exporter": "python",
   "pygments_lexer": "ipython3",
   "version": "3.7.11"
  }
 },
 "nbformat": 4,
 "nbformat_minor": 5
}
