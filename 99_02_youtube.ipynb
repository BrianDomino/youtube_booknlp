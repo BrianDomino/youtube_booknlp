{
 "cells": [
  {
   "cell_type": "code",
   "execution_count": 1,
   "id": "6102f106-fbcc-4719-a6f1-fbadce7d53cd",
   "metadata": {},
   "outputs": [
    {
     "name": "stderr",
     "output_type": "stream",
     "text": [
      "C:\\Users\\wma22\\anaconda3\\envs\\booknlp\\lib\\site-packages\\tqdm\\auto.py:22: TqdmWarning: IProgress not found. Please update jupyter and ipywidgets. See https://ipywidgets.readthedocs.io/en/stable/user_install.html\n",
      "  from .autonotebook import tqdm as notebook_tqdm\n"
     ]
    },
    {
     "name": "stdout",
     "output_type": "stream",
     "text": [
      "using device cpu\n"
     ]
    }
   ],
   "source": [
    "from booknlp.booknlp import BookNLP"
   ]
  },
  {
   "cell_type": "code",
   "execution_count": 2,
   "id": "e9778841-7cfb-4190-bdff-e68db0090a8f",
   "metadata": {},
   "outputs": [
    {
     "name": "stdout",
     "output_type": "stream",
     "text": [
      "{'pipeline': 'entity,quote,supersense,event,coref', 'model': 'big'}\n",
      "--- startup: 5.166 seconds ---\n"
     ]
    }
   ],
   "source": [
    "model_params = {\n",
    "                \"pipeline\": \"entity,quote,supersense,event,coref\",\n",
    "                \"model\": \"big\"\n",
    "    \n",
    "                }\n",
    "\n",
    "booknlp = BookNLP(\"en\", model_params)"
   ]
  },
  {
   "cell_type": "code",
   "execution_count": 3,
   "id": "c7c1a334-efd8-4e78-a3fd-61ace3508e31",
   "metadata": {},
   "outputs": [],
   "source": [
    "input_file = \"data/harry_potter_cleaned.txt\"\n",
    "\n",
    "output_directory = \"data/harry_potter\"\n",
    "\n",
    "book_id = \"harry_potter\""
   ]
  },
  {
   "cell_type": "code",
   "execution_count": 4,
   "id": "6192936d-ee9b-480a-835c-328fb94f8b16",
   "metadata": {},
   "outputs": [
    {
     "name": "stdout",
     "output_type": "stream",
     "text": [
      "--- spacy: 21.323 seconds ---\n",
      "--- entities: 149.958 seconds ---\n",
      "--- quotes: 0.123 seconds ---\n",
      "--- attribution: 324.313 seconds ---\n",
      "--- name coref: 0.730 seconds ---\n",
      "--- coref: 133.789 seconds ---\n",
      "--- TOTAL (excl. startup): 630.745 seconds ---, 99256 words\n"
     ]
    }
   ],
   "source": [
    "booknlp.process(input_file, output_directory, book_id)"
   ]
  },
  {
   "cell_type": "code",
   "execution_count": null,
   "id": "160fea36-5e31-4961-828e-4969ed4e6751",
   "metadata": {},
   "outputs": [],
   "source": []
  }
 ],
 "metadata": {
  "kernelspec": {
   "display_name": "Python 3 (ipykernel)",
   "language": "python",
   "name": "python3"
  },
  "language_info": {
   "codemirror_mode": {
    "name": "ipython",
    "version": 3
   },
   "file_extension": ".py",
   "mimetype": "text/x-python",
   "name": "python",
   "nbconvert_exporter": "python",
   "pygments_lexer": "ipython3",
   "version": "3.7.11"
  }
 },
 "nbformat": 4,
 "nbformat_minor": 5
}
