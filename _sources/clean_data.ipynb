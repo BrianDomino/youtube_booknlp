{
 "cells": [
  {
   "cell_type": "code",
   "execution_count": 11,
   "id": "velvet-sudan",
   "metadata": {},
   "outputs": [],
   "source": [
    "with open (\"data/harry_potter.txt\", \"r\") as f:\n",
    "    data = f.read()\n",
    "while \"\\n\\n\\n\" in data:\n",
    "    data = data.replace(\"\\n\\n\\n\", \"\\n\\n\")\n",
    "data = data.replace(\"\\'\", \"'\")\n",
    "paragraphs = data.split(\"\\n\\n\")\n",
    "final_ps = []\n",
    "for p in paragraphs:\n",
    "    p = p.replace(\"\\n-\", \"\").replace(\"\\n\", \" \")\n",
    "    final_ps.append(p)\n",
    "final_data = \"\\n\\n\".join(final_ps)\n",
    "with open (\"data/harry_potter_cleaned.txt\",\"w\") as f:\n",
    "    f.write(final_data)"
   ]
  },
  {
   "cell_type": "code",
   "execution_count": null,
   "id": "graduate-virginia",
   "metadata": {},
   "outputs": [],
   "source": []
  },
  {
   "cell_type": "code",
   "execution_count": null,
   "id": "spectacular-albert",
   "metadata": {},
   "outputs": [],
   "source": []
  }
 ],
 "metadata": {
  "kernelspec": {
   "display_name": "Python 3",
   "language": "python",
   "name": "python3"
  },
  "language_info": {
   "codemirror_mode": {
    "name": "ipython",
    "version": 3
   },
   "file_extension": ".py",
   "mimetype": "text/x-python",
   "name": "python",
   "nbconvert_exporter": "python",
   "pygments_lexer": "ipython3",
   "version": "3.9.2"
  }
 },
 "nbformat": 4,
 "nbformat_minor": 5
}
